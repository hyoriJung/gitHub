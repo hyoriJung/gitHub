{
 "cells": [
  {
   "cell_type": "markdown",
   "metadata": {},
   "source": [
    "###  1. Exercise 129:Two Dice Simulation"
   ]
  },
  {
   "cell_type": "code",
   "execution_count": 23,
   "metadata": {},
   "outputs": [
    {
     "name": "stdout",
     "output_type": "stream",
     "text": [
      "How many rolls do you want to simulate? 1000\n",
      "Total Simulated Percent\n",
      "Total : 2 Simulated Percent : 3.30\n",
      "Total : 3 Simulated Percent : 5.70\n",
      "Total : 4 Simulated Percent : 8.80\n",
      "Total : 5 Simulated Percent : 10.30\n",
      "Total : 6 Simulated Percent : 15.60\n",
      "Total : 7 Simulated Percent : 16.40\n",
      "Total : 8 Simulated Percent : 14.10\n",
      "Total : 9 Simulated Percent : 11.80\n",
      "Total : 10 Simulated Percent : 7.20\n",
      "Total : 11 Simulated Percent : 4.30\n",
      "Total : 12 Simulated Percent : 2.50\n"
     ]
    }
   ],
   "source": [
    "import random\n",
    "\n",
    "num = int(input('How many rolls do you want to simulate? '))\n",
    "\n",
    "rolls = {}\n",
    "for k in range(2, 13):\n",
    "        rolls[k] = 0\n",
    "for k in range(num):\n",
    "        first = random.randint(1, 6)\n",
    "        second = random.randint(1, 6)\n",
    "        rolls[first+second]+=1\n",
    "\n",
    "for k in rolls:\n",
    "    print('Total : %d Simulated Percent : %.2f' %(k, float(rolls[k])/float(num)*100))"
   ]
  },
  {
   "cell_type": "markdown",
   "metadata": {},
   "source": [
    "### 2. Exercise 130:Text Messaging"
   ]
  },
  {
   "cell_type": "code",
   "execution_count": 47,
   "metadata": {},
   "outputs": [
    {
     "name": "stdout",
     "output_type": "stream",
     "text": [
      "Enter word: Hello, World!\n",
      "4355610967531\n"
     ]
    }
   ],
   "source": [
    "KEYPAD = {'.':'1',',':'1','?':'1','!':'1',':':'1','A': '2', 'B': '2', 'C': '2', \n",
    "          'D': '3', 'E': '3', 'F': '3', 'G': '4', 'H': '4', 'I': '4', 'J': '5', 'K': '5', 'L': '5'\n",
    "          , 'M': '6', 'N': '6', 'O': '6', 'P': '7', 'Q': '7', 'R': '7', 'S': '7', \n",
    "            'T': '8', 'U': '8', 'V': '8', 'W': '9', 'X': '9', 'Y': '9', 'Z': '9',' ':'0'}\n",
    "word = input(\"Enter word: \")\n",
    "print(''.join([KEYPAD[k] for k in word.upper()])) "
   ]
  },
  {
   "cell_type": "markdown",
   "metadata": {},
   "source": [
    "###  3. Exercise 131: Morse Code"
   ]
  },
  {
   "cell_type": "code",
   "execution_count": 33,
   "metadata": {},
   "outputs": [
    {
     "name": "stdout",
     "output_type": "stream",
     "text": [
      "모스부호로 바꾸고 싶은 문자를 입력하세요. : Hello, World!\n",
      ".... . .-.. .-.. --- .-- --- .-. .-.. -.. \n"
     ]
    }
   ],
   "source": [
    "\n",
    "input_value = input(\"모스부호로 바꾸고 싶은 문자를 입력하세요. : \")\n",
    "Mos = { 'A':'.- ', 'B':'-... ',\n",
    "        'C':'-.-. ','D':'-.. ',\n",
    "        'E':'. ','F':'..-. ',\n",
    "        'G':'--. ','H':'.... ',\n",
    "        'I':'.. ','J':'.--- ',\n",
    "        'K':'-.- ','L':'.-.. ',\n",
    "        'M':'-- ','N':'-. ',\n",
    "        'O':'--- ','P':'.--. ',\n",
    "        'Q':'--.- ','R':'.-. ',\n",
    "        'S':'... ','T':'- ',\n",
    "        'U':'..- ','V':'...- ',\n",
    "        'W':'.-- ','X':'-..- ',\n",
    "        'Y':'-.-- ','Z':'--.. ' }\n",
    "\n",
    "num=[]\n",
    "for num2 in input_value.upper():\n",
    "    if num2 in Mos:\n",
    "        num.append(Mos[num2])\n",
    "print(\"\".join(num))"
   ]
  },
  {
   "cell_type": "markdown",
   "metadata": {},
   "source": [
    "###  4. Exercise 132: Postal Codes"
   ]
  },
  {
   "cell_type": "code",
   "execution_count": 37,
   "metadata": {},
   "outputs": [
    {
     "name": "stdout",
     "output_type": "stream",
     "text": [
      "캐나다의 우편번호를 입력하십시오 : T2N 1N4\n",
      "Match found - valid Canadian address:  T2N 1N4\n"
     ]
    }
   ],
   "source": [
    "import re\n",
    "\n",
    "postalCode = input(\"캐나다의 우편번호를 입력하십시오 : \")\n",
    "\n",
    "line = postalCode\n",
    "\n",
    "if re.search(\"[ABCEGHJKLMNPRSTVXY][0-9][ABCEGHJKLMNPRSTVWXYZ] ?[0-9][ABCEGHJKLMNPRSTVWXYZ][0-9]\", line , re.IGNORECASE | re.DOTALL):\n",
    "    print('Match found - valid Canadian address: ', line)\n",
    "else:\n",
    "    print('Error - no match - invalid Canadian address:', line)"
   ]
  },
  {
   "cell_type": "code",
   "execution_count": 63,
   "metadata": {},
   "outputs": [
    {
     "name": "stdout",
     "output_type": "stream",
     "text": [
      "우편번호를 입력해주세요 : X0A 1B2\n"
     ]
    }
   ],
   "source": [
    "provinces = {\n",
    "    'A':'Newfoundland',\n",
    "    'B':'Nova Scotia',\n",
    "    'C':'Prince Edward Island',\n",
    "    'E':'New Brunswick',\n",
    "    'G':'Quebee',\n",
    "    'H':'Quebee',\n",
    "    'J':'Quebee',\n",
    "    'K':'Ontario',\n",
    "    'L':'Ontario',\n",
    "    'M':'Ontario',\n",
    "    'N':'Ontario',\n",
    "    'P':'Ontario',\n",
    "    'R':'Manitoba',\n",
    "    'S':'Saskatchewan',\n",
    "    'T':'Alberta',\n",
    "    'V':'British Columbia',\n",
    "    'X':'Nunavut',\n",
    "    'X':'Northwest Territories',\n",
    "    'Y':'Yukon'\n",
    "}\n",
    "\n",
    "import re\n",
    "#x='T2N 1N4'\n",
    "x=[]\n",
    "x=input(\"우편번호를 입력해주세요 : \")"
   ]
  },
  {
   "cell_type": "code",
   "execution_count": 64,
   "metadata": {},
   "outputs": [
    {
     "name": "stdout",
     "output_type": "stream",
     "text": [
      "rural,  Northwest Territories\n"
     ]
    }
   ],
   "source": [
    "if re.search(\"[ABCEGHJKLMNPRSTVXY]+[0-9]+[A-Z]+[0-9]+[A-Z]+[0-9]\", x.replace(' ','')):\n",
    "    if(x[1]=='0'):\n",
    "        print(\"rural, \",provinces[x[0]])\n",
    "    else:\n",
    "        print(\"urban, \",provinces[x[0]])\n",
    "else:\n",
    "    print(\"잘못된 우편번호입니다.\")"
   ]
  }
 ],
 "metadata": {
  "kernelspec": {
   "display_name": "Python 3",
   "language": "python",
   "name": "python3"
  },
  "language_info": {
   "codemirror_mode": {
    "name": "ipython",
    "version": 3
   },
   "file_extension": ".py",
   "mimetype": "text/x-python",
   "name": "python",
   "nbconvert_exporter": "python",
   "pygments_lexer": "ipython3",
   "version": "3.6.5"
  }
 },
 "nbformat": 4,
 "nbformat_minor": 2
}
