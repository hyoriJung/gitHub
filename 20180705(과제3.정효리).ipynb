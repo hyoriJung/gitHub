{
 "cells": [
  {
   "cell_type": "markdown",
   "metadata": {},
   "source": [
    "# 과제3"
   ]
  },
  {
   "cell_type": "markdown",
   "metadata": {},
   "source": [
    "### 1. Exercise 82:Taxi Fare"
   ]
  },
  {
   "cell_type": "code",
   "execution_count": 10,
   "metadata": {},
   "outputs": [
    {
     "name": "stdout",
     "output_type": "stream",
     "text": [
      "여행한거리(킬로미터)를 입력하시오 : 234234\n"
     ]
    },
    {
     "data": {
      "text/plain": [
       "422.25"
      ]
     },
     "execution_count": 10,
     "metadata": {},
     "output_type": "execute_result"
    }
   ],
   "source": [
    "basic_pay=4.00\n",
    "\n",
    "def cal(km):\n",
    "    global basic_pay\n",
    "    cost=basic_pay+km//140*0.25\n",
    "    return cost\n",
    "\n",
    "cal(int(input(\"여행한거리(킬로미터)를 입력하시오 : \")))"
   ]
  },
  {
   "cell_type": "markdown",
   "metadata": {},
   "source": [
    "### 2. Exercise 84: Median of Three Values"
   ]
  },
  {
   "cell_type": "code",
   "execution_count": 99,
   "metadata": {},
   "outputs": [
    {
     "name": "stdout",
     "output_type": "stream",
     "text": [
      "첫번째 숫자를 입력하시오 : 543\n",
      "두번째 숫자를 입력하시오 : 234\n",
      "세번째 숫자를 입력하시오 : 345\n"
     ]
    },
    {
     "data": {
      "text/plain": [
       "345"
      ]
     },
     "execution_count": 99,
     "metadata": {},
     "output_type": "execute_result"
    }
   ],
   "source": [
    "a_list=[]\n",
    "\n",
    "a_list.append(int(input(\"첫번째 숫자를 입력하시오 : \")))\n",
    "a_list.append(int(input(\"두번째 숫자를 입력하시오 : \")))\n",
    "a_list.append(int(input(\"세번째 숫자를 입력하시오 : \")))\n",
    "\n",
    "a_list.sort()\n",
    "a_list[1]"
   ]
  },
  {
   "cell_type": "markdown",
   "metadata": {},
   "source": [
    "###  3. Exercise 85: Convert an Integer to its Ordinal Number"
   ]
  },
  {
   "cell_type": "code",
   "execution_count": 66,
   "metadata": {},
   "outputs": [
    {
     "name": "stdout",
     "output_type": "stream",
     "text": [
      "서수로 바꿀 정수를 입력하세요 : 2\n"
     ]
    },
    {
     "data": {
      "text/plain": [
       "'2th'"
      ]
     },
     "execution_count": 66,
     "metadata": {},
     "output_type": "execute_result"
    }
   ],
   "source": [
    "def toOrdinalNum(n):\n",
    "    if(n>12):\n",
    "        return \"\"\n",
    "    else:\n",
    "        return str(n) + {1: 'st', 2: 'nd', 3: 'rd'}.get(4 if 4 <= n<=12 else \"\", \"th\")\n",
    "    \n",
    "a=input(\"서수로 바꿀 정수를 입력하세요 : \")  \n",
    "toOrdinalNum(int(a))"
   ]
  },
  {
   "cell_type": "markdown",
   "metadata": {},
   "source": [
    "### 4. Exercise 88: Is it a Valid Triangle?"
   ]
  },
  {
   "cell_type": "code",
   "execution_count": 93,
   "metadata": {},
   "outputs": [],
   "source": [
    "def is_triangle(a_list):\n",
    "    a=a_list[0]\n",
    "    b=a_list[1]\n",
    "    c=a_list[2]\n",
    "    if (a > b + c) or (b > a + c) or (c > a + b):\n",
    "        return False\n",
    "    else:\n",
    "        return True"
   ]
  },
  {
   "cell_type": "code",
   "execution_count": 94,
   "metadata": {},
   "outputs": [
    {
     "name": "stdout",
     "output_type": "stream",
     "text": [
      "첫번째 빨대의 길이를 입력하시오 : 3\n",
      "두번째 빨대의 길이를 입력하시오 : 4\n",
      "세번째 빨대의 길이를 입력하시오 : 5\n"
     ]
    },
    {
     "data": {
      "text/plain": [
       "True"
      ]
     },
     "execution_count": 94,
     "metadata": {},
     "output_type": "execute_result"
    }
   ],
   "source": [
    "a_list=[]\n",
    "\n",
    "a_list.append(int(input(\"첫번째 빨대의 길이를 입력하시오 : \")))\n",
    "a_list.append(int(input(\"두번째 빨대의 길이를 입력하시오 : \")))\n",
    "a_list.append(int(input(\"세번째 빨대의 길이를 입력하시오 : \")))\n",
    "\n",
    "is_triangle(a_list)"
   ]
  },
  {
   "cell_type": "markdown",
   "metadata": {},
   "source": [
    "### 5. Exercise 92: Is a Number Prime?"
   ]
  },
  {
   "cell_type": "code",
   "execution_count": 85,
   "metadata": {},
   "outputs": [],
   "source": [
    "def is_prime(n=int):\n",
    "    if n<2:\n",
    "        return False\n",
    "    for i in range(2,n):\n",
    "        if n%i is 0:\n",
    "            return False\n",
    "        return True"
   ]
  },
  {
   "cell_type": "code",
   "execution_count": 87,
   "metadata": {},
   "outputs": [
    {
     "name": "stdout",
     "output_type": "stream",
     "text": [
      "정수를 입력하세요 : 17\n"
     ]
    },
    {
     "data": {
      "text/plain": [
       "True"
      ]
     },
     "execution_count": 87,
     "metadata": {},
     "output_type": "execute_result"
    }
   ],
   "source": [
    "a=input(\"정수를 입력하세요 : \")  \n",
    "is_prime(int(a))"
   ]
  }
 ],
 "metadata": {
  "kernelspec": {
   "display_name": "Python 3",
   "language": "python",
   "name": "python3"
  },
  "language_info": {
   "codemirror_mode": {
    "name": "ipython",
    "version": 3
   },
   "file_extension": ".py",
   "mimetype": "text/x-python",
   "name": "python",
   "nbconvert_exporter": "python",
   "pygments_lexer": "ipython3",
   "version": "3.6.5"
  }
 },
 "nbformat": 4,
 "nbformat_minor": 2
}
