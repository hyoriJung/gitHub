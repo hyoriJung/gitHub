{
 "cells": [
  {
   "cell_type": "markdown",
   "metadata": {},
   "source": [
    "# <과제1>"
   ]
  },
  {
   "cell_type": "markdown",
   "metadata": {},
   "source": [
    "### 1. Exercise 105: Reverse Order"
   ]
  },
  {
   "cell_type": "code",
   "execution_count": 4,
   "metadata": {},
   "outputs": [
    {
     "name": "stdout",
     "output_type": "stream",
     "text": [
      "정수를 입력하시오(마지막 0) : 3\n",
      "정수를 입력하시오(마지막 0) : 2\n",
      "정수를 입력하시오(마지막 0) : 0\n",
      "2\n",
      "3\n"
     ]
    }
   ],
   "source": [
    "int_list=[]\n",
    "print_list=[]\n",
    "while True:\n",
    "    int_list.append(int(input('정수를 입력하시오(마지막 0) : '))) \n",
    "    if(int_list.count(0)):\n",
    "        print_list=int_list[::-1]\n",
    "        print_list.remove(0)\n",
    "        break\n",
    "        \n",
    "for i in print_list:\n",
    "    print(i)            "
   ]
  },
  {
   "cell_type": "markdown",
   "metadata": {},
   "source": [
    "### 2. Exercise 107: Avoiding Duplicates"
   ]
  },
  {
   "cell_type": "code",
   "execution_count": 1,
   "metadata": {
    "scrolled": true
   },
   "outputs": [
    {
     "name": "stdout",
     "output_type": "stream",
     "text": [
      "추가할 단어를 입력하시오 : first\n",
      "추가할 단어를 입력하시오 : second\n",
      "추가할 단어를 입력하시오 : first\n",
      "추가할 단어를 입력하시오 : third\n",
      "추가할 단어를 입력하시오 : second\n",
      "추가할 단어를 입력하시오 : \n",
      "first\n",
      "second\n",
      "third\n",
      "\n"
     ]
    }
   ],
   "source": [
    "print_list2=[]\n",
    "while True:\n",
    "    a=input('추가할 단어를 입력하시오 : ')\n",
    "    if a not in print_list2:\n",
    "        print_list2.append(a) \n",
    "    if(len(a)<1):\n",
    "        break\n",
    "        \n",
    "for i in print_list2:\n",
    "    print(i) "
   ]
  },
  {
   "cell_type": "markdown",
   "metadata": {},
   "source": [
    "### 3. Exercise 108: Negatives,Zeros and Positives"
   ]
  },
  {
   "cell_type": "code",
   "execution_count": 15,
   "metadata": {},
   "outputs": [
    {
     "name": "stdout",
     "output_type": "stream",
     "text": [
      "정수를 입력하시오 : 3\n",
      "정수를 입력하시오 : -4\n",
      "정수를 입력하시오 : 1\n",
      "정수를 입력하시오 : 0\n",
      "정수를 입력하시오 : -1\n",
      "정수를 입력하시오 : 0\n",
      "정수를 입력하시오 : -2\n",
      "정수를 입력하시오 : \n",
      "[-4, -2, -1, 0, 0, 1, 3]\n"
     ]
    }
   ],
   "source": [
    "print_list3=[]\n",
    "while True:\n",
    "    c=input('정수를 입력하시오 : ') #if c is not None and isinstance(int(c), int):\n",
    "    if len(c)>0:\n",
    "        print_list3.append(int(c)) \n",
    "    else:\n",
    "        print_list3.sort()\n",
    "        print(print_list3)\n",
    "        break"
   ]
  },
  {
   "cell_type": "markdown",
   "metadata": {},
   "source": [
    "### 4. Exercise 110: Perfect Numbers"
   ]
  },
  {
   "cell_type": "code",
   "execution_count": 2,
   "metadata": {},
   "outputs": [],
   "source": [
    "def ispos(string):\n",
    "    if string=='':\n",
    "        return False\n",
    "    elif (string[0]=='+' and string[1:].isdecimal()) or string.isdecimal():\n",
    "        return True\n",
    "    else:\n",
    "        return False"
   ]
  },
  {
   "cell_type": "code",
   "execution_count": 5,
   "metadata": {},
   "outputs": [
    {
     "name": "stdout",
     "output_type": "stream",
     "text": [
      "양의 정수를 입력하시오 : 4\n",
      "True\n",
      "양의 정수를 입력하시오 : -3\n",
      "False\n"
     ]
    }
   ],
   "source": [
    "e=ispos(input('양의 정수를 입력하시오 : '))\n",
    "print(e)\n",
    "f=ispos(input('양의 정수를 입력하시오 : '))\n",
    "print(f)"
   ]
  },
  {
   "cell_type": "markdown",
   "metadata": {},
   "source": [
    "### 5. Exercise 113: Formatting a List"
   ]
  },
  {
   "cell_type": "code",
   "execution_count": 24,
   "metadata": {},
   "outputs": [],
   "source": [
    "def ListFormat(alist):\n",
    "    n = len(alist)\n",
    "    if n > 1:\n",
    "        return ('{}, '*(n-2) + '{} and {}').format(*alist)\n",
    "    elif n > 0:\n",
    "        return alist[0]\n",
    "    else:\n",
    "        return ''"
   ]
  },
  {
   "cell_type": "code",
   "execution_count": 35,
   "metadata": {},
   "outputs": [
    {
     "name": "stdout",
     "output_type": "stream",
     "text": [
      "출력할 리스트를 입력하시오(콤마로 구분) : apples,oranges\n"
     ]
    },
    {
     "data": {
      "text/plain": [
       "'apples and oranges'"
      ]
     },
     "execution_count": 35,
     "metadata": {},
     "output_type": "execute_result"
    }
   ],
   "source": [
    "a=input('출력할 리스트를 입력하시오(콤마로 구분) : ')\n",
    "b=a.split(',')       \n",
    "ListFormat(b)   "
   ]
  },
  {
   "cell_type": "code",
   "execution_count": 36,
   "metadata": {},
   "outputs": [
    {
     "name": "stdout",
     "output_type": "stream",
     "text": [
      "출력할 리스트를 입력하시오(콤마로 구분) : apples,oranges,bananas,lemons\n"
     ]
    },
    {
     "data": {
      "text/plain": [
       "'apples, oranges, bananas and lemons'"
      ]
     },
     "execution_count": 36,
     "metadata": {},
     "output_type": "execute_result"
    }
   ],
   "source": [
    "a=input('출력할 리스트를 입력하시오(콤마로 구분) : ')\n",
    "b=a.split(',')       \n",
    "ListFormat(b)   "
   ]
  },
  {
   "cell_type": "markdown",
   "metadata": {},
   "source": [
    "### 6. Exercise 114: Random Lottery Numbers"
   ]
  },
  {
   "cell_type": "code",
   "execution_count": 37,
   "metadata": {},
   "outputs": [],
   "source": [
    "import random"
   ]
  },
  {
   "cell_type": "code",
   "execution_count": 50,
   "metadata": {},
   "outputs": [
    {
     "name": "stdout",
     "output_type": "stream",
     "text": [
      "복권 당첨 번호 : [14, 16, 28, 33, 42, 45]\n"
     ]
    }
   ],
   "source": [
    "print(\"복권 당첨 번호 : \" + str(sorted(random.sample(range(1,50), 6))))"
   ]
  },
  {
   "cell_type": "markdown",
   "metadata": {},
   "source": [
    "### 7. Exercise 134: Unique Characters"
   ]
  },
  {
   "cell_type": "code",
   "execution_count": 73,
   "metadata": {},
   "outputs": [],
   "source": [
    "def histogram(s):\n",
    "    su=0;\n",
    "    d = dict()\n",
    "    for c in s:\n",
    "        if c not in d:\n",
    "            d[c]=1\n",
    "    return len(d)"
   ]
  },
  {
   "cell_type": "code",
   "execution_count": 76,
   "metadata": {},
   "outputs": [
    {
     "data": {
      "text/plain": [
       "10"
      ]
     },
     "execution_count": 76,
     "metadata": {},
     "output_type": "execute_result"
    }
   ],
   "source": [
    "histogram('Hello, World!')"
   ]
  },
  {
   "cell_type": "markdown",
   "metadata": {},
   "source": [
    "### 8. Exercise 135: Anagrams"
   ]
  },
  {
   "cell_type": "code",
   "execution_count": 81,
   "metadata": {},
   "outputs": [
    {
     "name": "stdout",
     "output_type": "stream",
     "text": [
      "첫번째 문자를 입력하세요 : live\n",
      "두번째 문자를 입력하세요 : evil\n"
     ]
    }
   ],
   "source": [
    "def isAnagram(str1, str2):\n",
    "    str1_list = list(str1)\n",
    "    str1_list.sort()\n",
    "    str2_list = list(str2)\n",
    "    str2_list.sort()\n",
    "\n",
    "    return (str1_list == str2_list)\n",
    "\n",
    "first=input('첫번째 문자를 입력하세요 : ')\n",
    "second=input('두번째 문자를 입력하세요 : ')"
   ]
  },
  {
   "cell_type": "code",
   "execution_count": 82,
   "metadata": {},
   "outputs": [
    {
     "name": "stdout",
     "output_type": "stream",
     "text": [
      "Anagrams입니다.\n"
     ]
    }
   ],
   "source": [
    "if isAnagram(first,second)==True:\n",
    "    print('Anagrams입니다.')\n",
    "else:\n",
    "    print('Anagrams이 아닙니다.')"
   ]
  },
  {
   "cell_type": "code",
   "execution_count": null,
   "metadata": {},
   "outputs": [],
   "source": []
  }
 ],
 "metadata": {
  "kernelspec": {
   "display_name": "Python 3",
   "language": "python",
   "name": "python3"
  }
 },
 "nbformat": 4,
 "nbformat_minor": 2
}
